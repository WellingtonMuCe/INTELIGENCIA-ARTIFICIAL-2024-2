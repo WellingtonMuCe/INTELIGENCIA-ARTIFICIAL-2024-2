{
  "nbformat": 4,
  "nbformat_minor": 0,
  "metadata": {
    "colab": {
      "provenance": [],
      "authorship_tag": "ABX9TyPANnvj0lZTM5H+Y1tVxsw3",
      "include_colab_link": true
    },
    "kernelspec": {
      "name": "python3",
      "display_name": "Python 3"
    },
    "language_info": {
      "name": "python"
    }
  },
  "cells": [
    {
      "cell_type": "markdown",
      "metadata": {
        "id": "view-in-github",
        "colab_type": "text"
      },
      "source": [
        "<a href=\"https://colab.research.google.com/github/WellingtonMuCe/INTELIGENCIA-ARTIFICIAL-2024-2/blob/main/Miercoles23_10_2024.ipynb\" target=\"_parent\"><img src=\"https://colab.research.google.com/assets/colab-badge.svg\" alt=\"Open In Colab\"/></a>"
      ]
    },
    {
      "cell_type": "code",
      "execution_count": 2,
      "metadata": {
        "colab": {
          "base_uri": "https://localhost:8080/"
        },
        "id": "lyPdrnAWoZmz",
        "outputId": "ba95f742-e3a2-44a5-c383-4e78ba49b71b"
      },
      "outputs": [
        {
          "output_type": "stream",
          "name": "stdout",
          "text": [
            "3.10.12 (main, Sep 11 2024, 15:47:36) [GCC 11.4.0]\n"
          ]
        }
      ],
      "source": [
        "import sys\n",
        "print(sys.version)"
      ]
    },
    {
      "cell_type": "code",
      "source": [
        "numero=5\n",
        "tmp1= \"wellington\"\n",
        "print(numero)\n",
        "print(f\"mi nombre es: {tmp1}\")\n",
        "print(numero+5)\n",
        "print(numero-3)\n",
        "print(numero/3)\n",
        "print(numero*3)\n",
        "print(numero%3)\n",
        "print(numero**3)\n",
        "print(numero//3)\n",
        "numero*=2\n",
        "print(numero)\n",
        "print(type(numero))\n"
      ],
      "metadata": {
        "colab": {
          "base_uri": "https://localhost:8080/"
        },
        "id": "I4HJcNGdrjeK",
        "outputId": "22e3d1b0-8bdd-401f-a19f-e7977297f073"
      },
      "execution_count": 12,
      "outputs": [
        {
          "output_type": "stream",
          "name": "stdout",
          "text": [
            "5\n",
            "mi nombre es: wellington\n",
            "10\n",
            "2\n",
            "1.6666666666666667\n",
            "15\n",
            "2\n",
            "125\n",
            "1\n",
            "10\n",
            "<class 'int'>\n"
          ]
        }
      ]
    },
    {
      "cell_type": "code",
      "source": [
        "t=True\n",
        "f=False\n",
        "print(type(t))\n",
        "print(t and f)\n",
        "print(t or f)\n",
        "print(not t)\n",
        "print(t!=f)\n"
      ],
      "metadata": {
        "colab": {
          "base_uri": "https://localhost:8080/"
        },
        "id": "qxWARLCOs_uB",
        "outputId": "ce198e33-92c5-4f3e-d0c2-970146b8fb1c"
      },
      "execution_count": 13,
      "outputs": [
        {
          "output_type": "stream",
          "name": "stdout",
          "text": [
            "<class 'bool'>\n",
            "False\n",
            "True\n",
            "False\n",
            "True\n"
          ]
        }
      ]
    },
    {
      "cell_type": "code",
      "source": [
        "aux1='hello'\n",
        "aux2='world'\n",
        "aux3='WELLINGTON'\n",
        "print(aux1+aux2)\n",
        "print(aux1*4)\n",
        "print(aux1.capitalize())\n",
        "print(aux1.upper())\n",
        "print(aux3.lower())\n"
      ],
      "metadata": {
        "colab": {
          "base_uri": "https://localhost:8080/"
        },
        "id": "O_o73_bov6PW",
        "outputId": "7dcffdbf-d047-4e76-9678-0b37c884d0ba"
      },
      "execution_count": 18,
      "outputs": [
        {
          "output_type": "stream",
          "name": "stdout",
          "text": [
            "helloworld\n",
            "hellohellohellohello\n",
            "Hello\n",
            "HELLO\n",
            "wellington\n"
          ]
        }
      ]
    },
    {
      "cell_type": "code",
      "source": [
        "aux2=list()\n",
        "aux2.append(1)\n",
        "aux2.append('wellington')\n",
        "aux2.append(True)\n",
        "aux2.append(4)\n",
        "print(aux2)\n",
        "print(aux2[1])\n",
        "print(aux2[-1])\n",
        "\n",
        "aux2[1]='veneco'\n",
        "print(aux2)\n",
        "\n",
        "print('************************')\n",
        "aux3=[1,2,3,'Juan',True,False]\n",
        "print(aux3)\n",
        "aux3.pop()\n",
        "print(aux3)"
      ],
      "metadata": {
        "colab": {
          "base_uri": "https://localhost:8080/"
        },
        "id": "D2-MSsG0ww-C",
        "outputId": "7ee6afa2-e9bd-4c74-dca2-37d8efc8fe82"
      },
      "execution_count": 25,
      "outputs": [
        {
          "output_type": "stream",
          "name": "stdout",
          "text": [
            "[1, 'wellington', True, 4]\n",
            "wellington\n",
            "4\n",
            "[1, 'veneco', True, 4]\n",
            "************************\n",
            "[1, 2, 3, 'Juan', True, False]\n",
            "[1, 2, 3, 'Juan', True]\n"
          ]
        }
      ]
    },
    {
      "cell_type": "code",
      "source": [
        "tmp1=list(range(100))\n",
        "for x in tmp1:\n",
        "  print(x)\n",
        "  print(f\"el valor es\")\n"
      ],
      "metadata": {
        "colab": {
          "base_uri": "https://localhost:8080/"
        },
        "id": "pvxT50vRyMU-",
        "outputId": "3dfd86e1-9d6d-49c6-c02a-e49cd9401cc8"
      },
      "execution_count": 27,
      "outputs": [
        {
          "output_type": "stream",
          "name": "stdout",
          "text": [
            "0\n",
            "el valor es\n",
            "1\n",
            "el valor es\n",
            "2\n",
            "el valor es\n",
            "3\n",
            "el valor es\n",
            "4\n",
            "el valor es\n",
            "5\n",
            "el valor es\n",
            "6\n",
            "el valor es\n",
            "7\n",
            "el valor es\n",
            "8\n",
            "el valor es\n",
            "9\n",
            "el valor es\n",
            "10\n",
            "el valor es\n",
            "11\n",
            "el valor es\n",
            "12\n",
            "el valor es\n",
            "13\n",
            "el valor es\n",
            "14\n",
            "el valor es\n",
            "15\n",
            "el valor es\n",
            "16\n",
            "el valor es\n",
            "17\n",
            "el valor es\n",
            "18\n",
            "el valor es\n",
            "19\n",
            "el valor es\n",
            "20\n",
            "el valor es\n",
            "21\n",
            "el valor es\n",
            "22\n",
            "el valor es\n",
            "23\n",
            "el valor es\n",
            "24\n",
            "el valor es\n",
            "25\n",
            "el valor es\n",
            "26\n",
            "el valor es\n",
            "27\n",
            "el valor es\n",
            "28\n",
            "el valor es\n",
            "29\n",
            "el valor es\n",
            "30\n",
            "el valor es\n",
            "31\n",
            "el valor es\n",
            "32\n",
            "el valor es\n",
            "33\n",
            "el valor es\n",
            "34\n",
            "el valor es\n",
            "35\n",
            "el valor es\n",
            "36\n",
            "el valor es\n",
            "37\n",
            "el valor es\n",
            "38\n",
            "el valor es\n",
            "39\n",
            "el valor es\n",
            "40\n",
            "el valor es\n",
            "41\n",
            "el valor es\n",
            "42\n",
            "el valor es\n",
            "43\n",
            "el valor es\n",
            "44\n",
            "el valor es\n",
            "45\n",
            "el valor es\n",
            "46\n",
            "el valor es\n",
            "47\n",
            "el valor es\n",
            "48\n",
            "el valor es\n",
            "49\n",
            "el valor es\n",
            "50\n",
            "el valor es\n",
            "51\n",
            "el valor es\n",
            "52\n",
            "el valor es\n",
            "53\n",
            "el valor es\n",
            "54\n",
            "el valor es\n",
            "55\n",
            "el valor es\n",
            "56\n",
            "el valor es\n",
            "57\n",
            "el valor es\n",
            "58\n",
            "el valor es\n",
            "59\n",
            "el valor es\n",
            "60\n",
            "el valor es\n",
            "61\n",
            "el valor es\n",
            "62\n",
            "el valor es\n",
            "63\n",
            "el valor es\n",
            "64\n",
            "el valor es\n",
            "65\n",
            "el valor es\n",
            "66\n",
            "el valor es\n",
            "67\n",
            "el valor es\n",
            "68\n",
            "el valor es\n",
            "69\n",
            "el valor es\n",
            "70\n",
            "el valor es\n",
            "71\n",
            "el valor es\n",
            "72\n",
            "el valor es\n",
            "73\n",
            "el valor es\n",
            "74\n",
            "el valor es\n",
            "75\n",
            "el valor es\n",
            "76\n",
            "el valor es\n",
            "77\n",
            "el valor es\n",
            "78\n",
            "el valor es\n",
            "79\n",
            "el valor es\n",
            "80\n",
            "el valor es\n",
            "81\n",
            "el valor es\n",
            "82\n",
            "el valor es\n",
            "83\n",
            "el valor es\n",
            "84\n",
            "el valor es\n",
            "85\n",
            "el valor es\n",
            "86\n",
            "el valor es\n",
            "87\n",
            "el valor es\n",
            "88\n",
            "el valor es\n",
            "89\n",
            "el valor es\n",
            "90\n",
            "el valor es\n",
            "91\n",
            "el valor es\n",
            "92\n",
            "el valor es\n",
            "93\n",
            "el valor es\n",
            "94\n",
            "el valor es\n",
            "95\n",
            "el valor es\n",
            "96\n",
            "el valor es\n",
            "97\n",
            "el valor es\n",
            "98\n",
            "el valor es\n",
            "99\n",
            "el valor es\n"
          ]
        }
      ]
    },
    {
      "cell_type": "code",
      "source": [],
      "metadata": {
        "id": "feoQJLxF0QPp"
      },
      "execution_count": null,
      "outputs": []
    }
  ]
}